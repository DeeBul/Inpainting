{
 "cells": [
  {
   "cell_type": "code",
   "execution_count": 4,
   "id": "initial_id",
   "metadata": {
    "collapsed": true,
    "ExecuteTime": {
     "end_time": "2024-02-26T03:52:19.269981Z",
     "start_time": "2024-02-26T03:52:19.266410Z"
    }
   },
   "outputs": [],
   "source": [
    "import torch\n",
    "import torchvision\n",
    "import numpy as np\n",
    "import pandas as pd\n",
    "import matplotlib.pyplot as plt\n",
    "import cv2\n",
    "import glob\n",
    "from PIL import Image\n",
    "import random"
   ]
  },
  {
   "cell_type": "markdown",
   "source": [
    "# Batch Loader"
   ],
   "metadata": {
    "collapsed": false
   },
   "id": "533fbeb42b2bf1d4"
  },
  {
   "cell_type": "code",
   "outputs": [],
   "source": [
    "class BatchLoader:\n",
    "    # taking in the image data and shuffling it \n",
    "    def __init__(self, datasetroot, imgHeight=32, imgWidth=32, shuffle=False):\n",
    "        super(BatchLoader, self).__init__()\n",
    "        self.path = datasetroot\n",
    "        self.imgHeight = imgHeight\n",
    "        self.imgWidth = imgWidth\n",
    "        self.imgNames = []\n",
    "        \n",
    "        classList = glob.glob(self.path + '/*')\n",
    "        \n",
    "        for img_path in classList:\n",
    "            self.imgNames.append(img_path)\n",
    "            \n",
    "        self.count = len(self.imgNames)\n",
    "        self.perm(list(range(self.count)))\n",
    "        \n",
    "        if shuffle == True:\n",
    "            random.shuffle(self.perm)\n",
    "            \n",
    "        self.itercount = 0\n",
    "    \n",
    "    def __len__(self):\n",
    "        return self.count"
   ],
   "metadata": {
    "collapsed": false,
    "ExecuteTime": {
     "end_time": "2024-02-26T03:53:01.190538Z",
     "start_time": "2024-02-26T03:53:01.186605Z"
    }
   },
   "id": "f91578680e9234b8",
   "execution_count": 5
  },
  {
   "cell_type": "code",
   "outputs": [],
   "source": [],
   "metadata": {
    "collapsed": false
   },
   "id": "dd4fd6ff9a54b5c2"
  }
 ],
 "metadata": {
  "kernelspec": {
   "display_name": "Python 3",
   "language": "python",
   "name": "python3"
  },
  "language_info": {
   "codemirror_mode": {
    "name": "ipython",
    "version": 2
   },
   "file_extension": ".py",
   "mimetype": "text/x-python",
   "name": "python",
   "nbconvert_exporter": "python",
   "pygments_lexer": "ipython2",
   "version": "2.7.6"
  }
 },
 "nbformat": 4,
 "nbformat_minor": 5
}
